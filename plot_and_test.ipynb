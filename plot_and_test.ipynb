{
 "cells": [
  {
   "cell_type": "code",
   "execution_count": 1,
   "metadata": {
    "collapsed": false
   },
   "outputs": [],
   "source": [
    "from system import *\n",
    "from mat import *\n",
    "from constants import *\n",
    "import constants"
   ]
  },
  {
   "cell_type": "code",
   "execution_count": 2,
   "metadata": {
    "collapsed": true
   },
   "outputs": [],
   "source": [
    "#constants\n",
    "angstrom = 10**(-10) #meters\n",
    "eV = 1.602 * 10**(-19) #Joules\n",
    "hbar = 1.0546 * 10**(-34) #in J\n",
    "#hbar = 6.582 * 10**(-16) # eV*s\n",
    "q = 1.602 * 10**(-19) #electron charge\n",
    "me = 9.109 * 10**(-31)"
   ]
  },
  {
   "cell_type": "code",
   "execution_count": 3,
   "metadata": {
    "collapsed": false
   },
   "outputs": [
    {
     "name": "stdout",
     "output_type": "stream",
     "text": [
      "[<system.SquareBarrier object at 0x000002426BB09978>]\n"
     ]
    }
   ],
   "source": [
    "my_system = System()\n",
    "my_system.add_system_object(SquareBarrier('barrier', 10, 10, 0.067))\n",
    "print(my_system.sys)"
   ]
  },
  {
   "cell_type": "code",
   "execution_count": 4,
   "metadata": {
    "collapsed": false
   },
   "outputs": [
    {
     "name": "stdout",
     "output_type": "stream",
     "text": [
      "5\n"
     ]
    }
   ],
   "source": [
    "#example system\n",
    "my_system = System()\n",
    "\n",
    "widths_e = np.array([1.])*angstrom\n",
    "heights_e = np.array([0.])*eV\n",
    "widths1 = np.array([2, 2, 2, 2])*angstrom\n",
    "heights1 = np.array([0.5, 0.5, 0.5, 0.5])*eV\n",
    "widths2 = np.array([12, 12, 12, 12])*angstrom\n",
    "heights2 = np.array([0., 0., 0., 0.])*eV\n",
    "widths3 = np.array([2, 2, 2, 2])*angstrom\n",
    "heights3 = np.array([0.5, 0.5, 0.5, 0.5])*eV\n",
    "widths_c = np.array([1.])*angstrom\n",
    "heights_c = np.array([0.])*eV\n",
    "\n",
    "my_system.add_system_object(SysObjSpecified('emitter', widths_e, heights_e, 0.067*me))\n",
    "my_system.add_system_object(SquareBarrier('barrier', 8.*angstrom, 0.5*eV, 0.067*me))\n",
    "my_system.add_system_object(SysObjSpecified('well', widths2, heights2, 0.067*me))\n",
    "my_system.add_system_object(SysObjSpecified('barrier', widths3, heights3, 0.067*me))\n",
    "my_system.add_system_object(SysObjSpecified('collector', widths_c, heights_c, 0.067*me))\n",
    "\n",
    "#print(my_system.find_transmission_coefficient(0.08*eV))\n",
    "#print(my_system.apply_lin_voltage(0.6*eV, 1.*angstrom))\n",
    "print(len(my_system.sys))"
   ]
  },
  {
   "cell_type": "code",
   "execution_count": 5,
   "metadata": {
    "collapsed": false
   },
   "outputs": [],
   "source": [
    "#example system\n",
    "my_system = System()\n",
    "\n",
    "widths_e = np.array([1.])*angstrom\n",
    "heights_e = np.array([0.])*eV\n",
    "widths1 = np.array([2, 2, 2, 2])*angstrom\n",
    "heights1 = np.array([0.5, 0.5, 0.5, 0.5])*eV\n",
    "widths2 = np.array([12, 12, 12, 12])*angstrom\n",
    "heights2 = np.array([0., 0., 0., 0.])*eV\n",
    "widths3 = np.array([2, 2, 2, 2])*angstrom\n",
    "heights3 = np.array([0.5, 0.5, 0.5, 0.5])*eV\n",
    "widths_c = np.array([1.])*angstrom\n",
    "heights_c = np.array([0.])*eV\n",
    "\n",
    "my_system.add_system_object(SysObjSpecified('emitter', widths_e, heights_e, 0.067*me))\n",
    "my_system.add_system_object(SquareBarrier('barrier', 8.*angstrom, 0.5*eV, 0.067*me))\n",
    "my_system.add_system_object(SysObjSpecified('well', widths2, heights2, 0.067*me))\n",
    "my_system.add_system_object(SysObjSpecified('barrier', widths3, heights3, 0.067*me))\n",
    "my_system.add_system_object(SysObjSpecified('collector', widths_c, heights_c, 0.067*me))\n",
    "\n",
    "#print(my_system.find_transmission_coefficient(0.08*eV))\n",
    "my_system.apply_linear_voltage(0.6*eV, 1.*angstrom)"
   ]
  },
  {
   "cell_type": "code",
   "execution_count": null,
   "metadata": {
    "collapsed": true
   },
   "outputs": [],
   "source": []
  }
 ],
 "metadata": {
  "kernelspec": {
   "display_name": "Python 3",
   "language": "python",
   "name": "python3"
  },
  "language_info": {
   "codemirror_mode": {
    "name": "ipython",
    "version": 3
   },
   "file_extension": ".py",
   "mimetype": "text/x-python",
   "name": "python",
   "nbconvert_exporter": "python",
   "pygments_lexer": "ipython3",
   "version": "3.6.0"
  }
 },
 "nbformat": 4,
 "nbformat_minor": 2
}

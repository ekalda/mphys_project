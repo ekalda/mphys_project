{
 "cells": [
  {
   "cell_type": "code",
   "execution_count": 1,
   "metadata": {
    "collapsed": true
   },
   "outputs": [],
   "source": [
    "import numpy as np\n",
    "from numpy import matlib\n",
    "import math as mt\n",
    "import cmath\n",
    "import matplotlib.pyplot as plt\n",
    "import pylab"
   ]
  },
  {
   "cell_type": "code",
   "execution_count": 2,
   "metadata": {
    "collapsed": true
   },
   "outputs": [],
   "source": [
    "#APPLIED CONSTANTS\n",
    "angstrom = 10**(-10) #meters\n",
    "eV = 1.602 * 10**(-19) #Joules\n",
    "hbar = 1.0546 * 10**(-34) #in J\n",
    "#hbar = 6.582 * 10**(-16) # eV*s\n",
    "q = 1.602 * 10**(-19) #electron charge\n",
    "me = 9.109 * 10**(-31)\n",
    "\n",
    "#PARAMETERS\n",
    "#applied voltage\n",
    "voltage = 0.0\n",
    "#energy of a tunnelling electron\n",
    "#energy = 0.365*eV + voltage*q #energy under consideration, GaAs has Fermi energy around 0.005 eV\n"
   ]
  },
  {
   "cell_type": "code",
   "execution_count": 3,
   "metadata": {
    "collapsed": false
   },
   "outputs": [
    {
     "ename": "NameError",
     "evalue": "name 'Barrier' is not defined",
     "output_type": "error",
     "traceback": [
      "\u001b[0;31m---------------------------------------------------------------------------\u001b[0m",
      "\u001b[0;31mNameError\u001b[0m                                 Traceback (most recent call last)",
      "\u001b[0;32m<ipython-input-3-ce5499ac6fe2>\u001b[0m in \u001b[0;36m<module>\u001b[0;34m()\u001b[0m\n\u001b[1;32m      1\u001b[0m \u001b[1;31m#EFFECTIVE MASS VARIES\u001b[0m\u001b[1;33m\u001b[0m\u001b[1;33m\u001b[0m\u001b[0m\n\u001b[1;32m      2\u001b[0m \u001b[1;31m#wells and barriers\u001b[0m\u001b[1;33m\u001b[0m\u001b[1;33m\u001b[0m\u001b[0m\n\u001b[0;32m----> 3\u001b[0;31m \u001b[0mb2_1\u001b[0m\u001b[1;33m=\u001b[0m\u001b[0mBarrier\u001b[0m\u001b[1;33m(\u001b[0m\u001b[1;36m5\u001b[0m\u001b[1;33m*\u001b[0m\u001b[0mangstrom\u001b[0m\u001b[1;33m,\u001b[0m \u001b[1;36m0.5\u001b[0m\u001b[1;33m*\u001b[0m\u001b[0meV\u001b[0m\u001b[1;33m,\u001b[0m \u001b[1;36m5\u001b[0m\u001b[1;33m,\u001b[0m \u001b[1;36m0.106\u001b[0m\u001b[1;33m*\u001b[0m\u001b[0mme\u001b[0m\u001b[1;33m)\u001b[0m\u001b[1;33m\u001b[0m\u001b[0m\n\u001b[0m\u001b[1;32m      4\u001b[0m \u001b[0mw2_1\u001b[0m\u001b[1;33m=\u001b[0m\u001b[0mWell\u001b[0m\u001b[1;33m(\u001b[0m\u001b[1;36m50\u001b[0m\u001b[1;33m*\u001b[0m\u001b[0mangstrom\u001b[0m\u001b[1;33m,\u001b[0m \u001b[1;36m0.0\u001b[0m\u001b[1;33m,\u001b[0m \u001b[1;36m5\u001b[0m\u001b[1;33m,\u001b[0m \u001b[1;36m0.067\u001b[0m\u001b[1;33m*\u001b[0m\u001b[0mme\u001b[0m\u001b[1;33m)\u001b[0m\u001b[1;33m\u001b[0m\u001b[0m\n\u001b[1;32m      5\u001b[0m \u001b[0mb2_2\u001b[0m\u001b[1;33m=\u001b[0m\u001b[0mBarrier\u001b[0m\u001b[1;33m(\u001b[0m\u001b[1;36m5\u001b[0m\u001b[1;33m*\u001b[0m\u001b[0mangstrom\u001b[0m\u001b[1;33m,\u001b[0m \u001b[1;36m0.5\u001b[0m\u001b[1;33m*\u001b[0m\u001b[0meV\u001b[0m\u001b[1;33m,\u001b[0m \u001b[1;36m5\u001b[0m\u001b[1;33m,\u001b[0m \u001b[1;36m0.106\u001b[0m\u001b[1;33m*\u001b[0m\u001b[0mme\u001b[0m\u001b[1;33m)\u001b[0m\u001b[1;33m\u001b[0m\u001b[0m\n",
      "\u001b[0;31mNameError\u001b[0m: name 'Barrier' is not defined"
     ]
    }
   ],
   "source": [
    "#EFFECTIVE MASS VARIES\n",
    "#wells and barriers\n",
    "b2_1=Barrier(5*angstrom, 0.5*eV, 5, 0.106*me)\n",
    "w2_1=Well(50*angstrom, 0.0, 5, 0.067*me)\n",
    "b2_2=Barrier(5*angstrom, 0.5*eV, 5, 0.106*me)\n",
    "#array for the system\n",
    "system2 = [b2_1, w2_1, b2_2]\n",
    "\n",
    "b3_1=Barrier(5*angstrom, 0.5*eV, 5, 0.106*me)\n",
    "w3_1=Well(20*angstrom, 0.0, 5, 0.067*me)\n",
    "b3_2=Barrier(5*angstrom, 0.5*eV, 5, 0.106*me)\n",
    "#array for the system\n",
    "system3 = [b3_1, w3_1, b3_2]\n",
    "\n",
    "e2_array = np.arange(0.05, 1.5, 5.5*10**(-4))\n",
    "#print(e_array)\n",
    "T2_array = []\n",
    "for e in e2_array:\n",
    "    T = find_T(e*eV, 0.0, system2, 0.067*me, 0.067*me)\n",
    "    T2_array.append(T)\n",
    "    \n",
    "T3_array = []\n",
    "for e in e2_array:\n",
    "    T = find_T(e*eV, 0.0, system3, 0.067*me, 0.067*me)\n",
    "    T3_array.append(T)\n",
    "    \n",
    " \n",
    "b4_1=Barrier(5*angstrom, 0.5*eV, 5, 0.106*me)\n",
    "w4_1=Well(70*angstrom, 0.0, 5, 0.067*me)\n",
    "b4_2=Barrier(5*angstrom, 0.5*eV, 5, 0.106*me)\n",
    "#array for the system\n",
    "system4 = [b4_1, w4_1, b4_2]\n",
    "\n",
    "#e2_array = np.arange(0.05, 1.5, 5.5*10**(-4))\n",
    "#print(e_array)\n",
    "T4_array = []\n",
    "for e in e2_array:\n",
    "    T = find_T(e*eV, 0.0, system4, 0.067*me, 0.067*me)\n",
    "    T4_array.append(T)\n",
    "    \n",
    "\n",
    "    \n",
    "#print (T_array)\n",
    "#plt.plot(e1_array, T1_array, 'b--', label='effective mass does not vary')\n",
    "plt.plot(e2_array, T2_array, label='well width: 50 Angstroms')\n",
    "plt.plot(e2_array, T3_array, label='well width: 20 angstroms')\n",
    "plt.plot(e2_array, T4_array, label='well width: 70 angstroms')\n",
    "plt.xlabel('Energy (eV)')\n",
    "plt.ylabel('T')\n",
    "plt.legend()\n",
    "#plt.yscale('log')\n",
    "plt.show()"
   ]
  },
  {
   "cell_type": "code",
   "execution_count": null,
   "metadata": {
    "collapsed": true
   },
   "outputs": [],
   "source": [
    "#print (T_array)\n",
    "plt.plot(e2_array, T1_array, 'b--', label='effective mass does not vary')\n",
    "plt.plot(e2_array, T2_array, label='effective mass varies')\n",
    "plt.xlabel('Energy (eV)')\n",
    "plt.ylabel('T')\n",
    "plt.legend()\n",
    "#plt.yscale('log')\n",
    "#plt.show()"
   ]
  },
  {
   "cell_type": "code",
   "execution_count": 3,
   "metadata": {
    "collapsed": false
   },
   "outputs": [],
   "source": [
    "#class for the system\n",
    "class System(object):\n",
    "    def __init__(self):\n",
    "        self.sys = []\n",
    "        self.app_volt = 0.0 \n",
    "        \n",
    "    def add_system_object(self, new_object):\n",
    "        self.sys.append(new_object)\n",
    "        \n",
    "    def find_sys_length(self):\n",
    "        # sum of the length arrays\n",
    "        l = 0\n",
    "        for i in range(1,len(self.sys)-1):\n",
    "            l = l + np.sum(self.sys[i].width_array)\n",
    "        return l\n",
    "        \n",
    "    def find_transmission_coefficient(self, E):\n",
    "        E = E + self.app_volt\n",
    "        #initialising system matrix\n",
    "        sys_mat = np.matlib.identity(2)\n",
    "        #loop over all the system elements\n",
    "        for i in range(1,len(self.sys)+1):\n",
    "            obj = self.sys[i-1]\n",
    "            obj_mat = obj.find_total_obj_matrix(obj.width_array, obj.height_array, E)\n",
    "            sys_mat = np.dot(sys_mat, obj_mat)\n",
    "\n",
    "            if i == len(self.sys):\n",
    "                break\n",
    "            # enters the next object\n",
    "            obj_next = self.sys[i]\n",
    "            #finding wave vectors on the boundary of two objects\n",
    "            k_obj = obj.find_wave_vector(E, obj.height_array[len(obj.height_array)-1])\n",
    "            k_next = obj_next.find_wave_vector(E, obj_next.height_array[0])                            \n",
    "            #connecting to sys objects with discontinuity matrix\n",
    "            boundary_disc_mat = DiscontinuityMatrix(k_obj, k_next, obj.mass, obj_next.mass).disc_mat\n",
    "\n",
    "            sys_mat = np.dot(sys_mat, boundary_disc_mat)\n",
    "            boundary_prop_mat = PropagationMatrix(k_next, obj_next.width_array[0]).prop_mat\n",
    "            sys_mat = np.dot(sys_mat, boundary_prop_mat)\n",
    "        return 1 / ((abs(sys_mat[0, 0])) ** 2)\n",
    "    \n",
    "    #def apply_lin_voltage(self, V, inc=):\n",
    "        #self.app_volt = V\n",
    "        "
   ]
  },
  {
   "cell_type": "code",
   "execution_count": 4,
   "metadata": {
    "collapsed": false
   },
   "outputs": [],
   "source": [
    "#class representing system object (either well or barrier)\n",
    "class SysObject(object):\n",
    "    def __init__(self, obj_type, width, width_array, height_array, m_effective):\n",
    "        self.obj_type = obj_type\n",
    "        self.total_width = width\n",
    "        self.width_array = width_array\n",
    "        self.height_array = height_array\n",
    "        self.mass = m_effective\n",
    "        \n",
    "    def find_wave_vector(self, E, V):\n",
    "        if E > V:\n",
    "            return complex(mt.sqrt(2*self.mass*abs(E-V))/hbar, 0)\n",
    "        elif E < V:\n",
    "            return complex(0, mt.sqrt(2*self.mass*abs(E-V))/hbar)\n",
    "\n",
    "    #function for finding the total propagation matrix through the object\n",
    "    def find_total_obj_matrix(self, width_array, height_array, E):\n",
    "        #initialising system matrix\n",
    "        sys_mat_local = np.matlib.identity(2)\n",
    "        \n",
    "        #looping over the system object\n",
    "        for i in range(len(width_array)-1):\n",
    "            #discontinuity matrix\n",
    "            k_a = self.find_wave_vector(E, height_array[i])\n",
    "            k_b = self.find_wave_vector(E, height_array[i+1]) \n",
    "            disc_mat_local = DiscontinuityMatrix(k_a, k_b, self.mass, self.mass).disc_mat\n",
    "            #ipdate system matrix\n",
    "            sys_mat_local = np.dot(sys_mat_local, disc_mat_local)            \n",
    "            #propagation matrix\n",
    "            prop_mat_local = PropagationMatrix(k_b, width_array[i+1]).prop_mat\n",
    "            #update system matrix\n",
    "            sys_mat_local = np.dot(sys_mat_local, prop_mat_local)\n",
    "        return sys_mat_local\n",
    "                  \n",
    "\n",
    "class SysObjSpecified(SysObject):\n",
    "    def __init__(self, obj_type, width_array, height_array, m_effective):\n",
    "        super(SysObjSpecified, self).__init__(obj_type, sum(width_array), width_array, height_array, m_effective)\n",
    "        assert len(width_array) == len(height_array), 'width_array and height_array need to have same lengths'        \n",
    "        #self.width_array = width_array\n",
    "        #self.height_array = height_array\n",
    "        \n",
    "class SquareBarrier(SysObject):\n",
    "    def __init__(self, obj_type, width, height, m_effective):\n",
    "        # dividing barrier into bits for functions to work\n",
    "        self.width_array = np.array([width/2., width/2.])\n",
    "        self.height_array = np.array([height, height])\n",
    "        super(SquareBarrier, self).__init__(obj_type, width, self.width_array, self.height_array, m_effective)\n",
    "        \n",
    "class RoundBarrier(SysObject):\n",
    "    def __init__(self, obj_type, width, min_height, max_height, divisions, m_effective):\n",
    "        self.min_height = min_height\n",
    "        self.max_height = max_height\n",
    "        self.barrier_width = width\n",
    "        self.divs = divisions\n",
    "        self.width_array = self.construct_width_array()\n",
    "        self.height_array = self.construct_height_array()\n",
    "        super(RoundBarrier, self).__init__(obj_type, width, self.width_array, self.height_array, m_effective)\n",
    "        \n",
    "    def construct_width_array(self):\n",
    "        return [self.barrier_width/self.divs for i in range(self.divs)]\n",
    "        \n",
    "    def construct_height_array(self):\n",
    "        h_max = self.max_height\n",
    "        h_min = self.min_height\n",
    "        diff = h_max - h_min\n",
    "        divs = self.divs\n",
    "        h_arr = []\n",
    "        if divs % 2 == 1:\n",
    "            print ('odd')\n",
    "            inc = diff/((divs-1)/2)\n",
    "            h_arr.append(h_max)\n",
    "            for i in reversed(range(int((divs-1)/2))):\n",
    "                h_arr.insert(0, h_min + i * inc)\n",
    "                h_arr.append(h_min + i * inc)\n",
    "        else:\n",
    "            print('even')\n",
    "            inc = diff/((divs-2)/2)\n",
    "            h_arr = [h_max, h_max]\n",
    "            for i in reversed(range(int(divs/2)-1)):\n",
    "                h_arr.insert(0, h_min + i * inc)\n",
    "                h_arr.append(h_min + i * inc)\n",
    "        return h_arr"
   ]
  },
  {
   "cell_type": "code",
   "execution_count": 52,
   "metadata": {
    "collapsed": false
   },
   "outputs": [
    {
     "name": "stdout",
     "output_type": "stream",
     "text": [
      "even\n",
      "[1.6666666666666667, 1.6666666666666667, 1.6666666666666667, 1.6666666666666667, 1.6666666666666667, 1.6666666666666667]\n",
      "[20.0, 26.0, 32, 32, 26.0, 20.0]\n"
     ]
    }
   ],
   "source": [
    "my_round_barrier = RoundBarrier('barrier', 10, 20, 32, 6, 2)\n",
    "print(my_round_barrier.width_array)\n",
    "print(my_round_barrier.height_array)"
   ]
  },
  {
   "cell_type": "code",
   "execution_count": 5,
   "metadata": {
    "collapsed": false
   },
   "outputs": [],
   "source": [
    "def find_transmission_coeff(system, E):\n",
    "    #initialising system matrix\n",
    "    sys_mat = np.matlib.identity(2)\n",
    "    #loop over all the system elements\n",
    "    for i in range(1,len(system.sys)+1):\n",
    "        obj = system.sys[i-1]\n",
    "        obj_mat = obj.find_total_obj_matrix(obj.width_array, obj.height_array, E)\n",
    "        sys_mat = np.dot(sys_mat, obj_mat)\n",
    "        \n",
    "        if i == len(system.sys):\n",
    "            break\n",
    "        # enters the next object\n",
    "        obj_next = system.sys[i]\n",
    "        #finding wave vectors on the boundary of two objects\n",
    "        k_obj = obj.find_wave_vector(E, obj.height_array[len(obj.height_array)-1])\n",
    "        k_next = obj_next.find_wave_vector(E, obj_next.height_array[0])                            \n",
    "        #connecting to sys objects with discontinuity matrix\n",
    "        boundary_disc_mat = DiscontinuityMatrix(k_obj, k_next, obj.mass, obj_next.mass).disc_mat\n",
    "\n",
    "        sys_mat = np.dot(sys_mat, boundary_disc_mat)\n",
    "        boundary_prop_mat = PropagationMatrix(k_next, obj_next.width_array[0]).prop_mat\n",
    "        sys_mat = np.dot(sys_mat, boundary_prop_mat)\n",
    "    return 1 / ((abs(sys_mat[0, 0])) ** 2)\n",
    "        "
   ]
  },
  {
   "cell_type": "code",
   "execution_count": 22,
   "metadata": {
    "collapsed": false
   },
   "outputs": [
    {
     "name": "stdout",
     "output_type": "stream",
     "text": [
      "6.011940000000001e-32\n",
      "0.00781888970329\n",
      "9e-09\n"
     ]
    }
   ],
   "source": [
    "my_system = System()\n",
    "\n",
    "widths_e = np.array([10.])*angstrom\n",
    "heights_e = np.array([0.])*eV\n",
    "widths1 = np.array([2.5, 2.5, 2.5, 2.5])*angstrom\n",
    "heights1 = np.array([0.5, 0.5, 0.5, 0.5])*eV\n",
    "widths2 = np.array([12.5, 12.5, 12.5, 12.5])*angstrom\n",
    "heights2 = np.array([0., 0., 0., 0.])*eV\n",
    "widths3 = np.array([2.5, 2.5, 2.5, 2.5])*angstrom\n",
    "heights3 = np.array([0.5, 0.5, 0.5, 0.5])*eV\n",
    "widths_c = np.array([10.])*angstrom\n",
    "heights_c = np.array([0.])*eV\n",
    "\n",
    "my_system.add_system_object(SysObjSpecified('emitter', widths_e, heights_e, 0.066*me))\n",
    "my_system.add_system_object(SquareBarrier('barrier', 20*angstrom, 0.5*eV, 0.066*me))\n",
    "my_system.add_system_object(SquareBarrier('well', 50*angstrom, 0.0, 0.066*me))\n",
    "my_system.add_system_object(SquareBarrier('barrier', 20*angstrom, 0.5*eV, 0.066*me))\n",
    "my_system.add_system_object(SysObjSpecified('collector', widths_c, heights_c, 0.066*me))\n",
    "print(my_system.sys[1].mass)\n",
    "\n",
    "print(my_system.find_transmission_coefficient(0.08*eV))\n",
    "print(my_system.find_sys_length())"
   ]
  },
  {
   "cell_type": "code",
   "execution_count": 23,
   "metadata": {
    "collapsed": false
   },
   "outputs": [
    {
     "data": {
      "image/png": "[encoded data removed]",
      "text/plain": [
       "<matplotlib.figure.Figure at 0x16f32b9fbe0>"
      ]
     },
     "metadata": {},
     "output_type": "display_data"
    }
   ],
   "source": [
    "e1_array = np.arange(0.05, 0.6, 5.5 * 10 ** (-4))\n",
    "#e1_array = np.arange(0.05*eV, 1.5*eV, 0.145*eV)\n",
    "# print(e_array)\n",
    "T1_array = []\n",
    "for e in e1_array:\n",
    "    T = find_transmission_coeff(my_system, e*eV)\n",
    "    T1_array.append(T)\n",
    "    \n",
    "plt.plot(e1_array, T1_array)\n",
    "plt.yscale('log')\n",
    "plt.show()"
   ]
  },
  {
   "cell_type": "code",
   "execution_count": 12,
   "metadata": {
    "collapsed": false
   },
   "outputs": [
    {
     "name": "stdout",
     "output_type": "stream",
     "text": [
      "odd\n",
      "odd\n"
     ]
    }
   ],
   "source": [
    "my_system_round = System()\n",
    "my_system_round.add_system_object(SysObjSpecified('emitter', widths_e, heights_e, 0.067*me))\n",
    "my_system_round.add_system_object(RoundBarrier('barrier', 10*angstrom, 0.3*eV, 0.5*eV, 35, 0.106*me))\n",
    "my_system_round.add_system_object(SysObjSpecified('well', widths2, heights2, 0.067*me))\n",
    "my_system_round.add_system_object(RoundBarrier('barrier', 10*angstrom, 0.3*eV, 0.5*eV, 35, 0.106*me))\n",
    "my_system_round.add_system_object(SysObjSpecified('collector', widths_c, heights_c, 0.067*me))\n",
    "\n",
    "T2_array = []\n",
    "for e in e1_array:\n",
    "    T = find_transmission_coeff(my_system_round, e*eV)\n",
    "    T2_array.append(T)"
   ]
  },
  {
   "cell_type": "code",
   "execution_count": 17,
   "metadata": {
    "collapsed": false
   },
   "outputs": [
    {
     "name": "stdout",
     "output_type": "stream",
     "text": [
      "[  5.00000000e-10   5.00000000e-10   5.00000000e-10   5.00000000e-10\n",
      "   5.00000000e-10   5.00000000e-10   5.00000000e-10   5.00000000e-10\n",
      "   5.00000000e-10   5.00000000e-10]\n"
     ]
    }
   ],
   "source": [
    "my_system_var = System()\n",
    "\n",
    "widths1 = np.array([5. for i in range(10)])*angstrom\n",
    "heights1 = np.array([0.495, 0.5, 0.51, 0.49, 0.46, 0.51, 0.505, 0.485, 0.5, 0.47])*eV\n",
    "\n",
    "widths3 = np.array([5. for i in range(10)])*angstrom\n",
    "heights3 = np.array([0.49, 0.501, 0.52, 0.47, 0.5, 0.515, 0.505, 0.485, 0.5, 0.47])*eV\n",
    "print(widths1)\n",
    "\n",
    "my_system_var.add_system_object(SysObjSpecified('emitter', widths_e, heights_e, 0.067*me))\n",
    "my_system_var.add_system_object(SysObjSpecified('barrier', widths1, heights1, 0.106*me))\n",
    "my_system_var.add_system_object(SysObjSpecified('well', widths2, heights2, 0.067*me))\n",
    "my_system_var.add_system_object(SysObjSpecified('barrier', widths3, heights3, 0.106*me))\n",
    "my_system_var.add_system_object(SysObjSpecified('collector', widths_c, heights_c, 0.067*me))\n",
    "\n",
    "T3_array = []\n",
    "for e in e1_array:\n",
    "    T = find_transmission_coeff(my_system_var, e*eV)\n",
    "    T3_array.append(T)"
   ]
  },
  {
   "cell_type": "code",
   "execution_count": 13,
   "metadata": {
    "collapsed": false,
    "scrolled": true
   },
   "outputs": [
    {
     "data": {
      "image/png": "[encoded data removed]",
      "text/plain": [
       "<matplotlib.figure.Figure at 0x16f32744f60>"
      ]
     },
     "metadata": {},
     "output_type": "display_data"
    }
   ],
   "source": [
    "#print(T1_array)\n",
    "plt.plot(e1_array, T1_array, label='square barriers')\n",
    "plt.plot(e1_array, T2_array, label='round barriers')\n",
    "#plt.plot(e1_array, T3_array, label='barriers with varuing height')\n",
    "# plt.yscale('log')\n",
    "plt.xlabel('energy (eV)')\n",
    "plt.ylabel('transmission coefficient')\n",
    "plt.legend()\n",
    "plt.show()"
   ]
  },
  {
   "cell_type": "code",
   "execution_count": 19,
   "metadata": {
    "collapsed": false
   },
   "outputs": [
    {
     "data": {
      "image/png": "[encoded data removed]",
      "text/plain": [
       "<matplotlib.figure.Figure at 0x1e1ec13c9b0>"
      ]
     },
     "metadata": {},
     "output_type": "display_data"
    }
   ],
   "source": [
    "plt.plot(e1_array, T1_array, label='square barriers')\n",
    "#plt.plot(e1_array, T2_array, label='round barriers')\n",
    "plt.plot(e1_array, T3_array, label='barriers with varying height')\n",
    "# plt.yscale('log')\n",
    "plt.xlabel('energy (eV)')\n",
    "plt.ylabel('transmission coefficient')\n",
    "plt.legend()\n",
    "plt.show()"
   ]
  },
  {
   "cell_type": "code",
   "execution_count": 7,
   "metadata": {
    "collapsed": true
   },
   "outputs": [],
   "source": [
    "# class representing barrier\n",
    "class Barrier(object):\n",
    "    def __init__(self, width, height, divisions, m_effective):\n",
    "        self.width = width\n",
    "        self.height = height\n",
    "        self.div = divisions\n",
    "        self.mass = m_effective\n",
    "\n",
    "\n",
    "# class representing the well\n",
    "class Well(object):\n",
    "    def __init__(self, width, height, divisions, m_effective):\n",
    "        self.width = width\n",
    "        self.height = height\n",
    "        self.div = divisions\n",
    "        self.mass = m_effective\n",
    "\n",
    "\n",
    "\n",
    "def wave_vector(m_effective, E, V):\n",
    "    if E > V:\n",
    "        return complex(mt.sqrt(2*m_effective*abs(E-V))/hbar, 0)\n",
    "    elif E < V:\n",
    "        return complex(0, mt.sqrt(2*m_effective*abs(E-V))/hbar)"
   ]
  },
  {
   "cell_type": "code",
   "execution_count": 8,
   "metadata": {
    "collapsed": true
   },
   "outputs": [],
   "source": [
    "class PropagationMatrix(object):\n",
    "    def __init__(self, k_i, d):\n",
    "        self.k_i = k_i\n",
    "        self.width = d\n",
    "        self.prop_mat = self.find_propagation_matrix()\n",
    "        \n",
    "        \n",
    "    def find_propagation_matrix(self):\n",
    "        #creating numpy matrix\n",
    "        self.prop_mat = np.complex64(np.zeros((2, 2)))\n",
    "        # assigning values to the matrix elements\n",
    "        self.prop_mat[0, 0] = cmath.exp(complex(0, -1) * complex(self.width, 0) * self.k_i)\n",
    "        self.prop_mat[1, 1] = cmath.exp(complex(0, 1) * complex(self.width, 0) * self.k_i)\n",
    "        return self.prop_mat\n",
    " "
   ]
  },
  {
   "cell_type": "code",
   "execution_count": 9,
   "metadata": {
    "collapsed": false
   },
   "outputs": [],
   "source": [
    "   \n",
    "class DiscontinuityMatrix(object):\n",
    "    def __init__(self, k_i, k_f, m_i_effective, m_f_effective):\n",
    "        self.rho = m_i_effective / m_f_effective * k_f / k_i\n",
    "        self.disc_mat = self.find_discontinuity_matrix()\n",
    "    \n",
    "    def find_discontinuity_matrix(self):\n",
    "        #creating numpy matrix\n",
    "        self.disc_mat = np.complex64(np.zeros((2, 2)))\n",
    "        # assigning values to the matrix elements\n",
    "        self.disc_mat[0, 0] = 1. / 2. * (1 + self.rho)\n",
    "        self.disc_mat[0, 1] = 1. / 2. * (1 - self.rho)\n",
    "        self.disc_mat[1, 0] = 1. / 2. * (1 - self.rho)\n",
    "        self.disc_mat[1, 1] = 1. / 2. * (1 + self.rho)\n",
    "        return self.disc_mat"
   ]
  },
  {
   "cell_type": "code",
   "execution_count": 43,
   "metadata": {
    "collapsed": true
   },
   "outputs": [],
   "source": [
    "# function that finds the whole transmission coefficient\n",
    "def find_T(energy, pot_diff, system, m_emitter, m_collector):\n",
    "    # TODO: figure out how to represent non-zero applied voltage\n",
    "    # wave vector before entering the first barrier, using the effective mass specified in the arguments\n",
    "    k_emitter = wave_vector(m_emitter, energy, pot_diff)\n",
    "    # wave vector in the first barrier\n",
    "    k_first_barrier = wave_vector(system[0].mass, energy, pot_diff + system[0].height)\n",
    "    # creating the discontinuity matrix between emitter and first barrier\n",
    "    disc_mat_emitter = DiscontinuityMatrix(k_emitter, k_first_barrier, m_emitter, system[0].mass)\n",
    "    # creating the system matrix and assigning the first discontinuity matrix to it\n",
    "    sys_mat = disc_mat_emitter.disc_mat\n",
    "    \n",
    "\n",
    "    # looping over rest of the system\n",
    "    for n in range(len(system)):\n",
    "        # making the propagation matrix\n",
    "        k_prop = wave_vector(system[n].mass, energy, pot_diff + system[n].height)\n",
    "        prop_mat = PropagationMatrix(k_prop, system[n].width).prop_mat\n",
    "        # adding this matrix to the system matrix\n",
    "        sys_mat = np.dot(sys_mat, prop_mat)\n",
    "\n",
    "        # stop after the propagation matrix for the last system element is done. Need to add final discontinuity matrix \"manually\"\n",
    "        if n == len(system) - 1:\n",
    "            break\n",
    "\n",
    "        # wave number for the next item, needed for discontinuity matrix\n",
    "        k_a = k_prop #renaming\n",
    "        k_b = wave_vector(system[n + 1].mass, energy, pot_diff + system[n + 1].height)\n",
    "        disc_mat = DiscontinuityMatrix(k_a, k_b, system[n].mass, system[n+1].mass).disc_mat\n",
    "        #mat_disc = M_disc.mat_disc_effective(k_a, k_b)\n",
    "\n",
    "        # multiplying into the system matrix\n",
    "        sys_mat = np.dot(sys_mat, disc_mat)\n",
    "\n",
    "    # the wave vector in the last barrier\n",
    "    k_last_barrier = wave_vector(system[len(system) - 1].mass, energy, pot_diff + system[len(system) - 1].height)\n",
    "    # wave vector on the right of the barrier-tunnel system\n",
    "    k_collector = wave_vector(m_collector, energy, pot_diff)\n",
    "    # discontinuity matrix connecting the last barrier and the region on the right of the barrier\n",
    "    mat_disc_collector = DiscontinuityMatrix(k_last_barrier, k_collector, system[len(system) - 1].mass, m_collector).disc_mat\n",
    "\n",
    "    # multiplying M_disc_f into the system matrix\n",
    "    sys_mat = np.dot(sys_mat, mat_disc_collector)\n",
    "\n",
    "    # transmission coefficient from the system matrix\n",
    "    T = 1 / ((abs(sys_mat[0, 0])) ** 2)\n",
    "    return T"
   ]
  },
  {
   "cell_type": "code",
   "execution_count": 148,
   "metadata": {
    "collapsed": false
   },
   "outputs": [
    {
     "ename": "IndexError",
     "evalue": "list index out of range",
     "output_type": "error",
     "traceback": [
      "\u001b[0;31m---------------------------------------------------------------------------\u001b[0m",
      "\u001b[0;31mIndexError\u001b[0m                                Traceback (most recent call last)",
      "\u001b[0;32m<ipython-input-148-bc40b7d01e62>\u001b[0m in \u001b[0;36m<module>\u001b[0;34m()\u001b[0m\n\u001b[1;32m     19\u001b[0m \u001b[0mT1_array\u001b[0m \u001b[1;33m=\u001b[0m \u001b[1;33m[\u001b[0m\u001b[1;33m]\u001b[0m\u001b[1;33m\u001b[0m\u001b[0m\n\u001b[1;32m     20\u001b[0m \u001b[1;32mfor\u001b[0m \u001b[0me\u001b[0m \u001b[1;32min\u001b[0m \u001b[0me1_array\u001b[0m\u001b[1;33m:\u001b[0m\u001b[1;33m\u001b[0m\u001b[0m\n\u001b[0;32m---> 21\u001b[0;31m     \u001b[0mT\u001b[0m \u001b[1;33m=\u001b[0m \u001b[0mfind_T\u001b[0m\u001b[1;33m(\u001b[0m\u001b[0me\u001b[0m \u001b[1;33m*\u001b[0m \u001b[0meV\u001b[0m\u001b[1;33m,\u001b[0m \u001b[1;36m0.0\u001b[0m\u001b[1;33m,\u001b[0m \u001b[0msystem\u001b[0m\u001b[1;33m.\u001b[0m\u001b[0msys\u001b[0m\u001b[1;33m,\u001b[0m \u001b[1;36m0.067\u001b[0m \u001b[1;33m*\u001b[0m \u001b[0mme\u001b[0m\u001b[1;33m,\u001b[0m \u001b[1;36m0.067\u001b[0m \u001b[1;33m*\u001b[0m \u001b[0mme\u001b[0m\u001b[1;33m)\u001b[0m\u001b[1;33m\u001b[0m\u001b[0m\n\u001b[0m\u001b[1;32m     22\u001b[0m     \u001b[0mT1_array\u001b[0m\u001b[1;33m.\u001b[0m\u001b[0mappend\u001b[0m\u001b[1;33m(\u001b[0m\u001b[0mT\u001b[0m\u001b[1;33m)\u001b[0m\u001b[1;33m\u001b[0m\u001b[0m\n\u001b[1;32m     23\u001b[0m \u001b[1;33m\u001b[0m\u001b[0m\n",
      "\u001b[0;32m<ipython-input-43-28496b149515>\u001b[0m in \u001b[0;36mfind_T\u001b[0;34m(energy, pot_diff, system, m_emitter, m_collector)\u001b[0m\n\u001b[1;32m      5\u001b[0m     \u001b[0mk_emitter\u001b[0m \u001b[1;33m=\u001b[0m \u001b[0mwave_vector\u001b[0m\u001b[1;33m(\u001b[0m\u001b[0mm_emitter\u001b[0m\u001b[1;33m,\u001b[0m \u001b[0menergy\u001b[0m\u001b[1;33m,\u001b[0m \u001b[0mpot_diff\u001b[0m\u001b[1;33m)\u001b[0m\u001b[1;33m\u001b[0m\u001b[0m\n\u001b[1;32m      6\u001b[0m     \u001b[1;31m# wave vector in the first barrier\u001b[0m\u001b[1;33m\u001b[0m\u001b[1;33m\u001b[0m\u001b[0m\n\u001b[0;32m----> 7\u001b[0;31m     k_first_barrier = wave_vector(system[0].mass, energy,\n\u001b[0m\u001b[1;32m      8\u001b[0m                       pot_diff + system[0].height)\n\u001b[1;32m      9\u001b[0m     \u001b[1;31m# creating the discontinuity matrix between emitter and first barrier\u001b[0m\u001b[1;33m\u001b[0m\u001b[1;33m\u001b[0m\u001b[0m\n",
      "\u001b[0;31mIndexError\u001b[0m: list index out of range"
     ]
    }
   ],
   "source": [
    "# wells and barriers\n",
    "b1_1 = Barrier(5 * angstrom, 0.5 * eV, 5, 0.067 * me)\n",
    "w1_1 = Well(50 * angstrom, 0.0, 5, 0.067 * me)\n",
    "b1_2 = Barrier(5 * angstrom, 0.5 * eV, 5, 0.067 * me)\n",
    "w1_2=Well(50*angstrom, 0.0, 5, 0.067*me)\n",
    "b1_3=Barrier(20*angstrom, 0.5*eV, 5, 0.067*me)\n",
    "#array for the system\n",
    "system1 = [b1_1, w1_1, b1_2]\n",
    "\n",
    "#creating system for simulation\n",
    "#system = System()\n",
    "#system.add_system_object('barrier', 10 * angstrom, 0.5 * eV, 5, 0.067 * me)\n",
    "#system.add_system_object('well', 50 * angstrom, 0.0 * eV, 5, 0.067 * me)\n",
    "#system.add_system_object('barrier', 10 * angstrom, 0.5 * eV, 5, 0.067 * me)\n",
    "\n",
    "                         \n",
    "e1_array = np.arange(0.05, 1.5, 5.5 * 10 ** (-4))\n",
    "# print(e_array)\n",
    "T1_array = []\n",
    "for e in e1_array:\n",
    "    T = find_T(e * eV, 0.0, system.sys, 0.067 * me, 0.067 * me)\n",
    "    T1_array.append(T)\n",
    "\n",
    "# print (T_array)\n",
    "plt.plot(e1_array, T1_array)\n",
    "# plt.yscale('log')\n",
    "plt.show()"
   ]
  },
  {
   "cell_type": "code",
   "execution_count": null,
   "metadata": {
    "collapsed": true
   },
   "outputs": [],
   "source": []
  }
 ],
 "metadata": {
  "kernelspec": {
   "display_name": "Python 3",
   "language": "python",
   "name": "python3"
  },
  "language_info": {
   "codemirror_mode": {
    "name": "ipython",
    "version": 3
   },
   "file_extension": ".py",
   "mimetype": "text/x-python",
   "name": "python",
   "nbconvert_exporter": "python",
   "pygments_lexer": "ipython3",
   "version": "3.6.0"
  }
 },
 "nbformat": 4,
 "nbformat_minor": 2
}
